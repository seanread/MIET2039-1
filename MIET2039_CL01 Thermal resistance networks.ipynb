{
 "cells": [
  {
   "cell_type": "markdown",
   "metadata": {},
   "source": [
    "<h3>MIET2039 Computer Lab 01 - A Powerful Calculator</h3>\n",
    "<img src=\"img/python-logo-notext.png\", width=50, height=70, align=\"left\" />\n",
    "<p>Welcome to MIET2039 Applied Heat and Mass Transfer computer labs where we will use computer scripts to solve many problems, automate a lot of processes, and solve many engineering problems. The choice of Python as the computer language to use was due to its accessibility for you to continue to use after you graduate. I hope by that this course will enrich your learning and provide you with a new set of skills that will help you accelerate a lot of your work processes.</p>\n"
   ]
  },
  {
   "cell_type": "markdown",
   "metadata": {},
   "source": [
    "<p style=\"color:#4799ff;\">EXERCISE 1.1</p><ul>\n",
    "<li>Type \ta = 10 </li><li>Press \tCtrl+Enter\t(where’s the result??) </li><li>Type b = 20 and press Ctrl+Enter (still no result?!)</li></ul>\n",
    "well it is there but it’s stored as a variable in the background\n",
    "\n",
    "Actually we can write the two commands (or any number of commands) in the same cell. Let’s start again. Delete the contents in the cells. Re-enter the above commands and then print out the values by: <br>\n",
    "<pre>print(a)\n",
    "print(b)\n",
    "</pre>\n",
    "\n",
    "You can mix text (strings) with the variables <br>\n",
    "e.g.\n",
    "print(‘The value of a is’, a)\n"
   ]
  },
  {
   "cell_type": "code",
   "execution_count": null,
   "metadata": {
    "collapsed": true
   },
   "outputs": [],
   "source": []
  },
  {
   "cell_type": "markdown",
   "metadata": {
    "collapsed": true
   },
   "source": [
    "<p style=\"color:#4799ff;\">EXERCISE 1.2</p>\n",
    "<p>Try the following:</p>\n",
    "<img src=\"img/CL01-arithmetic-small.png\", width=671, height=244, align=\"left\" /> "
   ]
  },
  {
   "cell_type": "code",
   "execution_count": null,
   "metadata": {
    "collapsed": true
   },
   "outputs": [],
   "source": []
  },
  {
   "cell_type": "markdown",
   "metadata": {
    "collapsed": false,
    "scrolled": true
   },
   "source": [
    "<p>Let's revisit the thermal resistance problem from the lecture.</p>\n",
    "\n",
    "<img src=\"img/CL01-resistances.png\", width=150, height=270, align=\"left\" /> The wall of a cold room is composed of three layers:  The outside layer is brick 0.21 m thick, the middle layer is cork 0.10 m thick, and the inside layer is cement 0.050 m thick.  The wall is 2 m high and 5 m long.  Thermal conductivities are:  brick 0.70; cork 0.44; cement 1.15 W/(m.K).  The temperature of the outside air is 27°C and the inside air is -23°C.  The convective film coefficients are 48 W/(m².K) for the outside air to brick and 17 W/(m².K) for the inside air to cement.  Determine:<br>\n",
    "a)\tthe thermal resistance of the wall including the air boundary layers<br>\n",
    "b)\tthe overall heat transfer coefficient<br>\n",
    "c)\tthe rate of heat flow under steady conditions<br> \n",
    "d)\tthe temperature on the internal wall surface.\n",
    "\n",
    "<p>To begin recall the equations needed:</p>\n",
    "$$\n",
    "R_{conv} = \\frac{1}{hA} \\;\\;\\;\\;\\;\\; R_{cond} = \\frac{L}{kA} \\;\\;\\;\\;\\;\\; \\dot{Q} = \\frac{\\Delta T}{R_{total}}\n",
    "$$"
   ]
  },
  {
   "cell_type": "markdown",
   "metadata": {},
   "source": [
    "<p style=\"color:#4799ff;\">EXERCISE 1.3</p>\n",
    "<ul>\n",
    "<li>Define all the variables \tkBrick = 0.7; kThick = 0.21; …..etc</li><li>Add comments by using \t# </li><li>Calculate the resistances for store the values as RBrick, RCork, RCement, Rin, Rout</li><li>Add the resistances together as and store it as RTotal</li><li>Calculate the temperature difference and store it as TDiff</li><li>Calculate the heat transfer rate and store it as QDotTotal</li>\n",
    "</ul>"
   ]
  },
  {
   "cell_type": "code",
   "execution_count": null,
   "metadata": {
    "collapsed": true
   },
   "outputs": [],
   "source": []
  },
  {
   "cell_type": "markdown",
   "metadata": {},
   "source": [
    "<p style=\"color:#4799ff;\">EXERCISE 1.4</p>\n",
    "How tedious was that!! Let’s make a function that will calculate the resistance.\n",
    "<pre>\n",
    "def cond(L,k,A):\n",
    "    R = L/(k*A)\n",
    "    return (R)\n",
    "</pre>\n",
    "\n",
    "<p>Now we can use the function by calling it and entering in values</p>\n",
    "<pre>cond(0.21,0.7,10)</pre>\n",
    "note that when we don't assign the calculation to a variable the value is printed in the output automatically"
   ]
  },
  {
   "cell_type": "code",
   "execution_count": null,
   "metadata": {
    "collapsed": true
   },
   "outputs": [],
   "source": []
  },
  {
   "cell_type": "markdown",
   "metadata": {},
   "source": [
    "If you write it like this:\n",
    "<pre>RBrick = cond(0.21,0.7,10)</pre>\n",
    "No printout is given"
   ]
  },
  {
   "cell_type": "code",
   "execution_count": null,
   "metadata": {
    "collapsed": true
   },
   "outputs": [],
   "source": []
  },
  {
   "cell_type": "markdown",
   "metadata": {},
   "source": [
    "<p>You can enter the values specifically for each variable in the function, and the order it is inputted does not matter.</p>\n",
    "<pre>cond(k=0.7, L=0.21, A=10)</pre>"
   ]
  },
  {
   "cell_type": "code",
   "execution_count": null,
   "metadata": {
    "collapsed": false
   },
   "outputs": [],
   "source": []
  },
  {
   "cell_type": "markdown",
   "metadata": {},
   "source": [
    "Repeat the conduction resistance calculations for the other materials. Create a function for the convection resistance and calculate the inner and outer resistances.\n",
    "Comfirm your answers with the calculations made earlier."
   ]
  },
  {
   "cell_type": "code",
   "execution_count": null,
   "metadata": {
    "collapsed": false
   },
   "outputs": [],
   "source": []
  },
  {
   "cell_type": "markdown",
   "metadata": {},
   "source": [
    "<p style=\"color:#4799ff;\">EXERCISE 1.5</p>\n",
    "To remove tedious work, we make use of arrays and loop over them. Although in our case the resistance network is small, we don’t see the advantage of looping. But for larger cases this is very effective.\n",
    "Creating an array is as simple as putting comma-separated values between square brackets, inside curly brackets\n",
    "<p>Load up the modules by using the import command.\n",
    "<pre>import numpy as np</pre>\n",
    "Create:<ul><li>an array of conductivities called kList, </li><li>an array of thicknesses called tList</li><li>an array of heat transfer coefficient hList</li></ul>\n",
    "e.g.  <pre>a = np.array([0, 1, 2, 3])</pre>\n",
    "</p>"
   ]
  },
  {
   "cell_type": "code",
   "execution_count": null,
   "metadata": {
    "collapsed": true
   },
   "outputs": [],
   "source": []
  },
  {
   "cell_type": "markdown",
   "metadata": {},
   "source": [
    "<p style=\"color:#4799ff;\">EXERCISE 1.6</p>\n",
    "To access values in lists, use the square brackets for slicing along with the index or indices to obtain value available at that index, where the first value has an index of 0. Slicing in Python with two numbers in the brackets is inclusive of the first number and exclusive of the second number. Try the following on the arrays you made.\n",
    "<pre>kList[2]\n",
    "kList[0:1]\n",
    "kList[-1]\n",
    "</pre>"
   ]
  },
  {
   "cell_type": "code",
   "execution_count": null,
   "metadata": {
    "collapsed": false
   },
   "outputs": [],
   "source": []
  },
  {
   "cell_type": "markdown",
   "metadata": {},
   "source": [
    "<p style=\"color:#4799ff;\">EXERCISE 1.7</p>\n",
    "We will use the for loop which has the following format:\n",
    "<pre>\n",
    "for i in someSequence:\n",
    "\tsome function\n",
    "</pre>\n",
    "\n",
    "\n",
    "Try the following examples and see what happens\n",
    "<pre>\n",
    "for i in range(3):\n",
    "\tprint(i)\n",
    "</pre>\n",
    "\n",
    "<pre>\n",
    "for someIncrementorName in range(10):\n",
    "\tprint(someIncrementorName)\n",
    "</pre>\n",
    "\n",
    "There some error in the loop command below. Fix the error and run the loop.\n",
    "<pre>\n",
    "for j in range(3)\n",
    "condTotal = cond(tList[i], kList[i], Area)\n",
    "</pre>\n",
    "\n",
    "Using a loop, print out the conductivities, thicknesses, and names\n"
   ]
  },
  {
   "cell_type": "code",
   "execution_count": null,
   "metadata": {
    "collapsed": false
   },
   "outputs": [],
   "source": []
  },
  {
   "cell_type": "markdown",
   "metadata": {},
   "source": [
    "<p style=\"color:#4799ff;\">EXERCISE 1.8</p>\n",
    "Create an empty list to store our answers.\n",
    "\n",
    "An empty list is defined by [ ].\n",
    "<pre>\n",
    "condResistances = [];\n",
    "convResistances = [];\n",
    "</pre>\n",
    "\n",
    "\n",
    "Use the .append command to add a value to the end of the list\n",
    "<pre>\n",
    "condResistances.append = 10\n",
    "</pre>"
   ]
  },
  {
   "cell_type": "code",
   "execution_count": null,
   "metadata": {
    "collapsed": true
   },
   "outputs": [],
   "source": []
  },
  {
   "cell_type": "markdown",
   "metadata": {},
   "source": [
    "<p style=\"color:#4799ff;\">EXERCISE 1.9</p>\n",
    "Put it all together:\n",
    "<ul><li>Create or use the arrays you created in Exercise 1.5</li><li>Create an empty list to store answers called condResistances and answers for convResistances</li><li>Create a function to calculate conduction resistance, and one to calculate convection resistance</li><li>Use a for loop and calculate the conduction resistance with the resistance function (in step iii). Store the answers in the condResistances list. Repeat using the convection resistance function and store its answers in the convResistances list.</li><li>Sum the resistances using the sum(condResistances) command. Print this total to the screen.</li><li>Calculate the overall heat transfer coefficient, and the heat transfer rate. Print these values to the screen.</li><li>Check your values with your answers from earlier</li></ul>\n",
    "\n"
   ]
  },
  {
   "cell_type": "code",
   "execution_count": null,
   "metadata": {
    "collapsed": true
   },
   "outputs": [],
   "source": []
  }
 ],
 "metadata": {
  "kernelspec": {
   "display_name": "Python 3",
   "language": "python",
   "name": "python3"
  },
  "language_info": {
   "codemirror_mode": {
    "name": "ipython",
    "version": 3
   },
   "file_extension": ".py",
   "mimetype": "text/x-python",
   "name": "python",
   "nbconvert_exporter": "python",
   "pygments_lexer": "ipython3",
   "version": "3.4.3+"
  }
 },
 "nbformat": 4,
 "nbformat_minor": 0
}
